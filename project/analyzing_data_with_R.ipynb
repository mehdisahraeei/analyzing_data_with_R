{
 "cells": [
  {
   "cell_type": "markdown",
   "metadata": {},
   "source": [
    "# Analyzing_data_with_R"
   ]
  },
  {
   "cell_type": "markdown",
   "metadata": {
    "id": "H31aq310Mmx5"
   },
   "source": [
    "### installing libs"
   ]
  },
  {
   "cell_type": "code",
   "execution_count": 1,
   "metadata": {
    "colab": {
     "base_uri": "https://localhost:8080/"
    },
    "id": "WO2SjjWyL9ne",
    "outputId": "ed476e1c-4354-407a-8430-62916c589797"
   },
   "outputs": [],
   "source": [
    "install.packages(\"plotly\")\n",
    "install.packages(\"magrittr\")\n",
    "install.packages(\"ggplot2\")\n",
    "library(ggplot2)\n",
    "library(magrittr)\n",
    "library(plotly)"
   ]
  },
  {
   "cell_type": "markdown",
   "metadata": {
    "id": "mfJr4-L_L-3Z"
   },
   "source": [
    "### reading csv and exploring data"
   ]
  },
  {
   "cell_type": "code",
   "execution_count": 57,
   "metadata": {
    "colab": {
     "base_uri": "https://localhost:8080/",
     "height": 349
    },
    "id": "mvI3SBe5KqHf",
    "outputId": "f0571b4a-2d75-454a-acda-762b05697127"
   },
   "outputs": [
    {
     "data": {
      "text/html": [
       "<table class=\"dataframe\">\n",
       "<caption>A data.frame: 8 × 7</caption>\n",
       "<thead>\n",
       "\t<tr><th></th><th scope=col>Date</th><th scope=col>Open</th><th scope=col>High</th><th scope=col>Low</th><th scope=col>Close</th><th scope=col>Adj.Close</th><th scope=col>Volume</th></tr>\n",
       "\t<tr><th></th><th scope=col>&lt;chr&gt;</th><th scope=col>&lt;dbl&gt;</th><th scope=col>&lt;dbl&gt;</th><th scope=col>&lt;dbl&gt;</th><th scope=col>&lt;dbl&gt;</th><th scope=col>&lt;dbl&gt;</th><th scope=col>&lt;dbl&gt;</th></tr>\n",
       "</thead>\n",
       "<tbody>\n",
       "\t<tr><th scope=row>1</th><td>2022-01-22</td><td>36471.59</td><td>36688.81</td><td>34349.25</td><td>35030.25</td><td>35030.25</td><td>39714385405</td></tr>\n",
       "\t<tr><th scope=row>2</th><td>2022-01-23</td><td>35047.36</td><td>36433.31</td><td>34784.97</td><td>36276.80</td><td>36276.80</td><td>26017975951</td></tr>\n",
       "\t<tr><th scope=row>3</th><td>2022-01-24</td><td>36275.73</td><td>37247.52</td><td>33184.06</td><td>36654.33</td><td>36654.33</td><td>41856658597</td></tr>\n",
       "\t<tr><th scope=row>4</th><td>2022-01-25</td><td>36654.80</td><td>37444.57</td><td>35779.43</td><td>36954.00</td><td>36954.00</td><td>26428189594</td></tr>\n",
       "\t<tr><th scope=row>5</th><td>2022-01-26</td><td>36950.52</td><td>38825.41</td><td>36374.91</td><td>36852.12</td><td>36852.12</td><td>31324598034</td></tr>\n",
       "\t<tr><th scope=row>6</th><td>2022-01-27</td><td>36841.88</td><td>37148.32</td><td>35629.28</td><td>37138.23</td><td>37138.23</td><td>25041426629</td></tr>\n",
       "\t<tr><th scope=row>7</th><td>2022-01-28</td><td>37128.45</td><td>37952.88</td><td>36211.11</td><td>37784.33</td><td>37784.33</td><td>22238830523</td></tr>\n",
       "\t<tr><th scope=row>8</th><td>2022-01-29</td><td>37780.71</td><td>38576.26</td><td>37406.47</td><td>38138.18</td><td>38138.18</td><td>17194183075</td></tr>\n",
       "</tbody>\n",
       "</table>\n"
      ],
      "text/latex": [
       "A data.frame: 8 × 7\n",
       "\\begin{tabular}{r|lllllll}\n",
       "  & Date & Open & High & Low & Close & Adj.Close & Volume\\\\\n",
       "  & <chr> & <dbl> & <dbl> & <dbl> & <dbl> & <dbl> & <dbl>\\\\\n",
       "\\hline\n",
       "\t1 & 2022-01-22 & 36471.59 & 36688.81 & 34349.25 & 35030.25 & 35030.25 & 39714385405\\\\\n",
       "\t2 & 2022-01-23 & 35047.36 & 36433.31 & 34784.97 & 36276.80 & 36276.80 & 26017975951\\\\\n",
       "\t3 & 2022-01-24 & 36275.73 & 37247.52 & 33184.06 & 36654.33 & 36654.33 & 41856658597\\\\\n",
       "\t4 & 2022-01-25 & 36654.80 & 37444.57 & 35779.43 & 36954.00 & 36954.00 & 26428189594\\\\\n",
       "\t5 & 2022-01-26 & 36950.52 & 38825.41 & 36374.91 & 36852.12 & 36852.12 & 31324598034\\\\\n",
       "\t6 & 2022-01-27 & 36841.88 & 37148.32 & 35629.28 & 37138.23 & 37138.23 & 25041426629\\\\\n",
       "\t7 & 2022-01-28 & 37128.45 & 37952.88 & 36211.11 & 37784.33 & 37784.33 & 22238830523\\\\\n",
       "\t8 & 2022-01-29 & 37780.71 & 38576.26 & 37406.47 & 38138.18 & 38138.18 & 17194183075\\\\\n",
       "\\end{tabular}\n"
      ],
      "text/markdown": [
       "\n",
       "A data.frame: 8 × 7\n",
       "\n",
       "| <!--/--> | Date &lt;chr&gt; | Open &lt;dbl&gt; | High &lt;dbl&gt; | Low &lt;dbl&gt; | Close &lt;dbl&gt; | Adj.Close &lt;dbl&gt; | Volume &lt;dbl&gt; |\n",
       "|---|---|---|---|---|---|---|---|\n",
       "| 1 | 2022-01-22 | 36471.59 | 36688.81 | 34349.25 | 35030.25 | 35030.25 | 39714385405 |\n",
       "| 2 | 2022-01-23 | 35047.36 | 36433.31 | 34784.97 | 36276.80 | 36276.80 | 26017975951 |\n",
       "| 3 | 2022-01-24 | 36275.73 | 37247.52 | 33184.06 | 36654.33 | 36654.33 | 41856658597 |\n",
       "| 4 | 2022-01-25 | 36654.80 | 37444.57 | 35779.43 | 36954.00 | 36954.00 | 26428189594 |\n",
       "| 5 | 2022-01-26 | 36950.52 | 38825.41 | 36374.91 | 36852.12 | 36852.12 | 31324598034 |\n",
       "| 6 | 2022-01-27 | 36841.88 | 37148.32 | 35629.28 | 37138.23 | 37138.23 | 25041426629 |\n",
       "| 7 | 2022-01-28 | 37128.45 | 37952.88 | 36211.11 | 37784.33 | 37784.33 | 22238830523 |\n",
       "| 8 | 2022-01-29 | 37780.71 | 38576.26 | 37406.47 | 38138.18 | 38138.18 | 17194183075 |\n",
       "\n"
      ],
      "text/plain": [
       "  Date       Open     High     Low      Close    Adj.Close Volume     \n",
       "1 2022-01-22 36471.59 36688.81 34349.25 35030.25 35030.25  39714385405\n",
       "2 2022-01-23 35047.36 36433.31 34784.97 36276.80 36276.80  26017975951\n",
       "3 2022-01-24 36275.73 37247.52 33184.06 36654.33 36654.33  41856658597\n",
       "4 2022-01-25 36654.80 37444.57 35779.43 36954.00 36954.00  26428189594\n",
       "5 2022-01-26 36950.52 38825.41 36374.91 36852.12 36852.12  31324598034\n",
       "6 2022-01-27 36841.88 37148.32 35629.28 37138.23 37138.23  25041426629\n",
       "7 2022-01-28 37128.45 37952.88 36211.11 37784.33 37784.33  22238830523\n",
       "8 2022-01-29 37780.71 38576.26 37406.47 38138.18 38138.18  17194183075"
      ]
     },
     "metadata": {},
     "output_type": "display_data"
    }
   ],
   "source": [
    "# Load the CSV file into a data frame\n",
    "df <- read.csv(\"/content/sample_data/BTC-USD.csv\")\n",
    "\n",
    "# Display the first few rows of the data frame\n",
    "head(df,8)"
   ]
  },
  {
   "cell_type": "markdown",
   "metadata": {
    "id": "xsmmpeH_zapl"
   },
   "source": [
    "- ##### dataset summary"
   ]
  },
  {
   "cell_type": "code",
   "execution_count": 58,
   "metadata": {
    "colab": {
     "base_uri": "https://localhost:8080/",
     "height": 260
    },
    "id": "ZXZVXtJhPlnT",
    "outputId": "5fda6abf-53d3-4a4b-aa3c-460428bbce03"
   },
   "outputs": [
    {
     "data": {
      "text/plain": [
       "     Date                Open            High            Low       \n",
       " Length:20          Min.   :35047   Min.   :36433   Min.   :33184  \n",
       " Class :character   1st Qu.:36919   1st Qu.:37395   1st Qu.:36103  \n",
       " Mode  :character   Median :37850   Median :38736   Median :36963  \n",
       "                    Mean   :38910   Mean   :39915   Mean   :37989  \n",
       "                    3rd Qu.:41456   3rd Qu.:42011   3rd Qu.:41090  \n",
       "                    Max.   :44348   Max.   :45661   Max.   :43403  \n",
       "     Close         Adj.Close         Volume         \n",
       " Min.   :35030   Min.   :35030   Min.   :1.464e+10  \n",
       " 1st Qu.:36954   1st Qu.:36954   1st Qu.:1.953e+10  \n",
       " Median :38028   Median :38028   Median :2.414e+10  \n",
       " Mean   :39265   Mean   :39265   Mean   :2.528e+10  \n",
       " 3rd Qu.:41729   3rd Qu.:41729   3rd Qu.:2.989e+10  \n",
       " Max.   :44339   Max.   :44339   Max.   :4.186e+10  "
      ]
     },
     "metadata": {},
     "output_type": "display_data"
    }
   ],
   "source": [
    "summary(df)"
   ]
  },
  {
   "cell_type": "markdown",
   "metadata": {
    "id": "GRK5xiTZzjeP"
   },
   "source": [
    "- ##### standard deviation"
   ]
  },
  {
   "cell_type": "code",
   "execution_count": 59,
   "metadata": {
    "colab": {
     "base_uri": "https://localhost:8080/"
    },
    "id": "NKHbfZ80Ps4S",
    "outputId": "ca739385-13a1-4ba5-bfe4-41c172d3277c"
   },
   "outputs": [
    {
     "name": "stdout",
     "output_type": "stream",
     "text": [
      "[1] \"close std 3023.49461954453\"\n",
      "[1] \"whole std 2932.60435461045\"\n"
     ]
    }
   ],
   "source": [
    "print(paste('close std', sd(df$Close)))\n",
    "print(paste('whole std', sd(c(df$Open, df$Close))))"
   ]
  }
 ],
 "metadata": {
  "colab": {
   "provenance": []
  },
  "kernelspec": {
   "display_name": "Python 3 (ipykernel)",
   "language": "python",
   "name": "python3"
  },
  "language_info": {
   "codemirror_mode": {
    "name": "ipython",
    "version": 3
   },
   "file_extension": ".py",
   "mimetype": "text/x-python",
   "name": "python",
   "nbconvert_exporter": "python",
   "pygments_lexer": "ipython3",
   "version": "3.8.10"
  }
 },
 "nbformat": 4,
 "nbformat_minor": 1
}
